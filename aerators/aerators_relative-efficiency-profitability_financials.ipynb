{
 "cells": [
  {
   "cell_type": "markdown",
   "id": "b110a712",
   "metadata": {},
   "source": [
    "<!DOCTYPE html>\n",
    "<html lang=\"en\">\n",
    "<head>\n",
    "    <meta charset=\"UTF-8\">\n",
    "    <meta name=\"viewport\" content=\"width=device-width, initial-scale=1\">\n",
    "    <title>Aerators: Relative Efficiency and Profitability</title>\n",
    "    <link rel=\"icon\" type=\"image/x-icon\" href=\"favicon.ico\">\n",
    "    <link rel=\"stylesheet\" href=\"styles.css\">\n",
    "</head>\n",
    "</html>"
   ]
  },
  {
   "cell_type": "markdown",
   "id": "7ebe87a7",
   "metadata": {},
   "source": [
    "# Analysis of Aerators for Shrimp Farming: Cost Optimization and the Real Cost of \"Cheap\"\n",
    "\n",
    "\n",
    "<h5>Luis Paulo Vinatea Barberena</h5>\n",
    "<h6>BarberNode</h6>  \n",
    "<h6>luisvinatea@icloud.com, +55 48 99221-9675</h6>  \n",
    "<h6>Servidao das Caranhas, 22, Barra da Lagoa, Florianopolis, SC, Brazil, 88061635</h6>  \n",
    "<h6>Date: 2025-05-02</h6>  \n"
   ]
  },
  {
   "cell_type": "markdown",
   "id": "0e57252a",
   "metadata": {},
   "source": [
    "\n",
    "# Abstract\n",
    "\n",
    "Aerator selection is a critical economic decision in shrimp farming, often complicated by the trade-off between initial cost and long-term operational efficiency. This paper presents a comprehensive analysis comparing two aerator options within the context of a specific shrimp farm, integrating Léon Walras's General Equilibrium Theory and Friedrich von Wieser's concept of Opportunity Cost. The study evaluates aerators based on updated technical performance metrics (including Temperature-Adjusted Oxygen Transfer Rate - OTR_T and Standard Aeration Efficiency - SAE) derived from the farm's Total Oxygen Demand (TOD) and detailed, adapted financial indicators (Net Present Value - NPV, Internal Rate of Return - IRR, Payback Period, Return on Investment - ROI, Profitability Index - k, Opportunity Cost, and Equilibrium Price) tailored for equipment comparison. Results from the specific case study demonstrate that prioritizing higher efficiency (Aerator 2) over lower initial cost (Aerator 1) leads to substantial long-term savings, a significantly positive NPV, high interpreted ROI and IRR, rapid payback, and a considerable opportunity cost associated with choosing the less efficient option. The analysis highlights the economic fallacy of prioritizing low initial costs over efficiency and underscores the importance of applying robust economic principles and adapted technical-financial assessments for optimizing operational costs and ensuring financial sustainability in shrimp aquaculture (Boyd & Hanson, 2021; The Fish Site, 2021).\n",
    "\n",
    "**Keywords:** Shrimp Farming, Aquaculture Economics, Aerator Efficiency, Opportunity Cost, Cost Optimization, Mathematical Modeling, Financial Analysis, Equipment Comparison Metrics\n"
   ]
  },
  {
   "cell_type": "markdown",
   "id": "8b991cfd",
   "metadata": {},
   "source": [
    "\n",
    "# Highlights\n",
    "\n",
    "- Higher efficiency aerators reduce long-term costs in shrimp farming.\n",
    "- Adapted financial metrics reveal flaws in traditional equations.\n",
    "- Opportunity cost of low-efficiency aerators exceeds $14M in NPV.\n",
    "- In-loco data confirms poor performance of low-durability aerators.\n",
    "- AeraSync API informs novel economic models for aquaculture.\n"
   ]
  },
  {
   "cell_type": "markdown",
   "id": "13543c7d",
   "metadata": {},
   "source": [
    "\n",
    "# 1. Introduction\n",
    "\n",
    "The economic analysis of optimal aerator choice in shrimp farming benefits from the General Equilibrium Theorem developed by Léon Walras in the 19th century, complemented by Friedrich von Wieser's concept of opportunity cost, introduced in 1914. Walras proposed a framework to understand how interconnected markets reach simultaneous equilibrium, where supply equals demand through relative prices (Walras, 1874). This approach is useful for analyzing complex systems like shrimp farms, where multiple \"markets\" (oxygen, energy, shrimp, operating costs) interact to maximize profitability (Asche et al., 2021). Opportunity cost measures the value of the best alternative forgone, evaluating aerator options (Boyd & Hanson, 2021).\n"
   ]
  },
  {
   "cell_type": "markdown",
   "id": "e726db45",
   "metadata": {},
   "source": [
    "\n",
    "## 1.1 Analogy with the Oxygen Market and Opportunity Cost\n",
    "\n",
    "In shrimp farming, dissolved oxygen is a critical input. An \"internal oxygen market\" can be conceptualized where demand (Total Oxygen Demand, TOD) is driven by shrimp and microbial needs, and supply depends on aerators' Temperature-Adjusted Oxygen Transfer Rate (OTR_T). Aerators interact with energy, maintenance, and replacement markets, connecting to the external shrimp market. Walras's Theorem suggests equilibrium when these markets adjust simultaneously. Choosing a cheaper, less efficient aerator incurs an opportunity cost equal to the net present value of savings forgone by not selecting the more efficient option (Boyd & Hanson, 2021; Susilowati et al., 2021).\n"
   ]
  },
  {
   "cell_type": "markdown",
   "id": "db0fe8b6",
   "metadata": {},
   "source": [
    "\n",
    "## 1.2 The Cake Recipe: Why Assuming HP per Pound of Shrimp is Incorrect\n",
    "\n",
    "Assuming a fixed horsepower (HP)-per-production ratio is erroneous. Shrimp production depends on multiple factors (dissolved oxygen, temperature, salinity, density). Aerator HP does not directly equate to oxygen supply; OTR_T is critical. Fixed HP ratios ignore interdependencies, leading to inefficient investments in low-OTR_T aerators and significant opportunity costs (Boyd, 2015; Responsible Seafood Advocate, 2022).\n"
   ]
  },
  {
   "cell_type": "markdown",
   "id": "b4522621",
   "metadata": {},
   "source": [
    "\n",
    "## 1.3 Original Equation of Léon Walras's General Equilibrium\n",
    "\n",
    "Walras formalized general equilibrium with supply/demand equations, subject to Walras's Law (excess demands sum to zero). Equilibrium prices are found via \"tâtonnement\" (Walras, 1874). In shrimp farming, equilibrium involves optimizing aerator costs, meeting TOD, maximizing profits, and accounting for opportunity cost (Asche et al., 2021; Valderrama et al., 2023).\n"
   ]
  },
  {
   "cell_type": "markdown",
   "id": "eb26a7c6",
   "metadata": {},
   "source": [
    "\n",
    "# 2. Materials and Methods\n",
    "\n",
    "## 2.1 Data Collection\n"
   ]
  },
  {
   "cell_type": "markdown",
   "id": "63ff8dfa",
   "metadata": {},
   "source": [
    "\n",
    "[Placeholder: Describe in-loco data collection methods, including shrimp farm locations, measurement of TOD, OTR_T, SAE, and other parameters. Include evidence from shrimp farmers on low-durability aerator performance, e.g., failure rates, maintenance issues.]\n",
    "\n",
    "## 2.2 AeraSync API Development\n",
    "\n",
    "The financial metrics were adapted during the development of the AeraSync API, using Python's unittest framework to identify flaws in traditional equations (e.g., IRR, ROI). Adaptations were mathematically propagated to ensure applicability to aquaculture equipment comparison.\n",
    "\n",
    "[Placeholder: Detail AeraSync API methodology, including Python code snippets, unittest results, and how flaws were identified and corrected.]\n"
   ]
  },
  {
   "cell_type": "markdown",
   "id": "3010577f",
   "metadata": {},
   "source": [
    "\n",
    "## 2.3 Mathematical Models for Aerator Comparison\n",
    "\n",
    "### 2.3.1 Oxygen Transfer Rate Calculations\n",
    "\n",
    "#### 2.3.1.1 Standard Oxygen Transfer Rate (SOTR)\n",
    "\n",
    "\n",
    "The baseline oxygen transfer capacity under standard conditions (20°C, 0 DO, 1 atm), measured in kg O₂/hr (Kumar et al., 2020).\n"
   ]
  },
  {
   "cell_type": "markdown",
   "id": "eb9d305e",
   "metadata": {},
   "source": [
    "\n",
    "#### 2.3.1.2 Temperature-Adjusted Oxygen Transfer Rate (OTR_T)\n",
    "\n",
    "\\[\n",
    "\\text{OTR}\\_T = (\\text{SOTR} \\times 0.5) \\times \\theta^{(T-20)}\n",
    "\\]\n",
    "\n",
    "Where \\(\\theta = 1.024\\) (temperature correction factor) (Boyd, 2015).\n"
   ]
  },
  {
   "cell_type": "markdown",
   "id": "e037862f",
   "metadata": {},
   "source": [
    "\n",
    "#### 2.3.1.3 Standard Aeration Efficiency (SAE)\n",
    "\n",
    "\\[\n",
    "\\text{SAE} = \\frac{\\text{SOTR}}{\\text{Power (kW)}} \\quad (\\text{kg O}\\_2/\\text{kWh})\n",
    "\\]\n",
    "\n",
    "Where \\(\\text{Power (kW)} = \\text{Power (HP)} \\times 0.746\\) (Kumar et al., 2020).\n"
   ]
  },
  {
   "cell_type": "markdown",
   "id": "a545d2dc",
   "metadata": {},
   "source": [
    "\n",
    "#### 2.3.1.4 Aerator Quantity Calculation\n",
    "\n",
    "\\[\n",
    "\\text{Number of Aerators} = \\left\\lceil \\frac{\\text{TOD}}{\\text{OTR}\\_T} \\right\\rceil\n",
    "\\]\n"
   ]
  },
  {
   "cell_type": "markdown",
   "id": "f849ca56",
   "metadata": {},
   "source": [
    "\n",
    "### 2.3.2 Annual Revenue\n",
    "\n",
    "\\[\n",
    "\\text{Annual Revenue} = \\text{Total Annual Production (kg)} \\times \\text{Shrimp Price (\\$/kg)}\n",
    "\\]\n",
    "\n",
    "Production depends on density, depth, area, and culture cycles (Engle, 2010).\n"
   ]
  },
  {
   "cell_type": "markdown",
   "id": "6f322e3e",
   "metadata": {},
   "source": [
    "\n",
    "### 2.3.3 Initial Investment\n",
    "\n",
    "\\[\n",
    "\\text{Total Initial Cost} = \\text{Number of Aerators} \\times \\text{Cost per Aerator}\n",
    "\\]\n"
   ]
  },
  {
   "cell_type": "markdown",
   "id": "8bdd53f0",
   "metadata": {},
   "source": [
    "\n",
    "### 2.3.4 Annual Operating Costs\n",
    "\n",
    "1. **Energy Cost:** \\(\\text{Power (kW)} \\times \\text{Energy Cost (\\$/kWh)} \\times \\text{Operating Hours per Year} \\times \\text{Number of Aerators}\\)\n",
    "2. **Maintenance Cost:** \\(\\text{Maintenance Cost per Unit per Year} \\times \\text{Number of Aerators}\\)\n",
    "3. **Replacement Cost (Annualized):** \\((\\text{Number of Aerators} \\times \\text{Cost per Aerator}) / \\text{Durability (years)}\\)\n"
   ]
  },
  {
   "cell_type": "markdown",
   "id": "fabd98fb",
   "metadata": {},
   "source": [
    "\n",
    "### 2.3.5 Total Annual Cost\n",
    "\n",
    "\\[\n",
    "\\text{Total Annual Cost} = \\text{Energy Cost} + \\text{Maintenance Cost} + \\text{Replacement Cost}\n",
    "\\]\n"
   ]
  },
  {
   "cell_type": "markdown",
   "id": "8918e7ec",
   "metadata": {},
   "source": [
    "\n",
    "### 2.3.6 Net Present Value (NPV) of Savings\n",
    "\n",
    "\\[\n",
    "\\text{NPV}_{\\text{Savings}} = \\sum_{i=1}^{n} \\frac{\\text{Annual Saving}_{\\text{Year 1}} \\times (1 + r_{\\text{inflation}})^{i-1}}{(1 + r\\_{\\text{real}})^i}\n",
    "\\]\n",
    "\n",
    "Where \\(r*{\\text{real}} = \\frac{1 + r*{\\text{nominal}}}{1 + r\\_{\\text{inflation}}} - 1\\) (Intelligon, 2022; Susilowati et al., 2021).\n"
   ]
  },
  {
   "cell_type": "markdown",
   "id": "aa4385e0",
   "metadata": {},
   "source": [
    "\n",
    "### 2.3.7 Adapted Financial Metrics\n",
    "\n",
    "Standard metrics (IRR, Payback, ROI, k) were adapted due to violations of positive incremental investment assumptions in aquaculture equipment comparison (Engle, 2010; Kumar et al., 2020).\n"
   ]
  },
  {
   "cell_type": "markdown",
   "id": "eaefe204",
   "metadata": {},
   "source": [
    "\n",
    "#### 2.3.7.1 Internal Rate of Return (IRR)\n",
    "\n",
    "\\[\n",
    "0 = - \\Delta I + \\sum*{i=1}^{n} \\frac{S*{yr1} \\times (1 + r\\_{\\text{inflation}})^{i-1}}{(1 + \\text{IRR})^i}\n",
    "\\]\n",
    "\n",
    "If \\(\\Delta I \\leq 0\\), standard IRR is undefined; adapted IRR anchors against baseline cost, scaled by SOTR ratio, capped at 100% (Kumar et al., 2020).\n"
   ]
  },
  {
   "cell_type": "markdown",
   "id": "98f5b61a",
   "metadata": {},
   "source": [
    "\n",
    "#### 2.3.7.2 Payback Period\n",
    "\n",
    "\\[\n",
    "\\text{Payback Period} =\n",
    "\\begin{cases}\n",
    "\\frac{0.01}{R*{SOTR}} & \\text{if } \\Delta I < 0 \\text{ and } S*{yr1} > 0 \\\\\n",
    "\\frac{\\Delta I}{S*{yr1}} & \\text{if } \\Delta I \\geq 0 \\text{ and } S*{yr1} > 0 \\\\\n",
    "\\infty & \\text{if } S\\_{yr1} \\leq 0\n",
    "\\end{cases}\n",
    "\\]\n",
    "\n",
    "If \\(\\Delta I \\leq 0\\), a small value divided by SOTR ratio indicates immediate benefit (Susilowati et al., 2021).\n"
   ]
  },
  {
   "cell_type": "markdown",
   "id": "b6482288",
   "metadata": {},
   "source": [
    "\n",
    "#### 2.3.7.3 Return on Investment (ROI)\n",
    "\n",
    "\\[\n",
    "\\text{ROI}_{\\text{relative}} =\n",
    "\\begin{cases}\n",
    "\\min\\left( \\left( \\frac{S_{yr1}}{C*{base}} \\times R*{SOTR} \\times (1 + F*{cost_sav}) \\right) \\times 100, R*{SOTR} \\times 100 \\right) & \\text{if } \\Delta I < 0 \\text{ and } S*{yr1} > 0 \\\\\n",
    "\\min\\left( \\left( \\frac{S*{yr1}}{C*{base}} \\times R*{SOTR} \\right) \\times 100, R*{SOTR} \\times 100 \\right) & \\text{if } \\Delta I = 0 \\text{ and } S*{yr1} > 0 \\\\\n",
    "\\min\\left( \\left( \\frac{S*{yr1}}{\\Delta I} \\right) \\times 100, R*{SOTR} \\times 100 \\right) & \\text{if } \\Delta I > 0 \\text{ and } S*{yr1} > 0 \\\\\n",
    "0 & \\text{if } S*{yr1} \\leq 0 \\text{ or } C\\_{base} \\leq 0\n",
    "\\end{cases}\n",
    "\\]\n",
    "\n",
    "Where \\(F*{cost_sav} = \\frac{|\\Delta I|}{C*{base}}\\). If \\(\\Delta I \\leq 0\\), relative ROI is based on savings relative to baseline cost, scaled by SOTR ratio (Intelligon, 2022).\n"
   ]
  },
  {
   "cell_type": "markdown",
   "id": "c700ac98",
   "metadata": {},
   "source": [
    "\n",
    "#### 2.3.7.4 Profitability Index (k)\n",
    "\n",
    "\\[\n",
    "k*{\\text{relative}} =\n",
    "\\begin{cases}\n",
    "k*{base} \\times (1 + F*{cost_sav}) & \\text{if } \\Delta I < 0 \\\\\n",
    "k*{base} & \\text{if } \\Delta I = 0 \\\\\n",
    "k*{base} \\times F*{cost} & \\text{if } \\Delta I > 0 \\\\\n",
    "0 & \\text{if } NPV*{sav} \\leq 0 \\text{ or } C*{base} \\leq 0\n",
    "\\end{cases}\n",
    "\\]\n",
    "\n",
    "Where \\(k*{base} = \\frac{NPV*{sav}}{C*{base}} \\times R*{SOTR}\\), \\(F*{cost_sav} = \\frac{|\\Delta I|}{C*{base}}\\), \\(F*{cost} = \\frac{C*{base}}{C\\_{base} + \\Delta I}\\) (Engle, 2010).\n"
   ]
  },
  {
   "cell_type": "markdown",
   "id": "70c22a79",
   "metadata": {},
   "source": [
    "\n",
    "#### 2.3.7.5 Opportunity Cost\n",
    "\n",
    "\\[\n",
    "\\text{Opportunity Cost}_{\\text{baseline}} = \\text{NPV}_{\\text{Savings (winner vs. baseline)}}\n",
    "\\]\n",
    "\n",
    "Quantifies economic loss from less efficient equipment (Boyd & Hanson, 2021; Susilowati et al., 2021).\n"
   ]
  },
  {
   "cell_type": "markdown",
   "id": "0f5ef886",
   "metadata": {},
   "source": [
    "\n",
    "#### 2.3.7.6 Equilibrium Price\n",
    "\n",
    "\\[\n",
    "P*{eq} =\n",
    "\\begin{cases}\n",
    "\\max\\left(0, P*{base} \\times R*{SOTR} \\times \\left(\\frac{1}{1 + F*{cost, eq}}\\right)\\right) & \\text{if } C*{base} > 0 \\text{ and } P*{base} > 0 \\\\\n",
    "\\max\\left(0, P*{base} \\times R*{SOTR}\\right) & \\text{if } C*{base} \\leq 0 \\text{ or } P*{base} \\leq 0 \\\\\n",
    "0 & \\text{if calculation prerequisites fail}\n",
    "\\end{cases}\n",
    "\\]\n",
    "\n",
    "Where \\(P*{base} = \\frac{(C*{\\text{annual, non-winner}} - (C*{E, \\text{winner}} + C*{M, \\text{winner}})) \\times D*{\\text{winner}}}{N*{\\text{winner}}}\\), \\(F*{cost, eq} = P*{base} / C\\_{base}\\) (Asche et al., 2021).\n"
   ]
  },
  {
   "cell_type": "markdown",
   "id": "fe8aa2c5",
   "metadata": {},
   "source": [
    "\n",
    "# 3. Results\n",
    "\n",
    "## 3.1 Case Study: Comparative Analysis of Aerators\n",
    "\n",
    "### 3.1.1 Farm Operating Conditions\n",
    "\n",
    "- **Total Oxygen Demand (TOD):** 5,443.76 kg O₂/day\n",
    "- **Farm Area:** 1,000 hectares\n",
    "- **Shrimp Price:** $5.00/kg\n",
    "- **Culture Period:** 120 days\n",
    "- **Shrimp Density:** 0.33 kg/m³\n",
    "- **Pond Depth:** 1.0 m\n",
    "- **Water Temperature (T):** 31.5°C\n",
    "- **Calculated Annual Revenue:** $50,694,439.38\n",
    "- **Analysis Horizon (n):** 10 years\n",
    "- **Annual Inflation Rate (\\(r\\_{\\text{inflation}}\\)):** 2.5%\n",
    "- **Annual Discount Rate (\\(r\\_{\\text{nominal}}\\)):** 10%\n"
   ]
  },
  {
   "cell_type": "markdown",
   "id": "25b602fe",
   "metadata": {},
   "source": [
    "\n",
    "### 3.1.2 Aerator Specifications and Calculated Metrics\n",
    "\n",
    "**Table 1.** Aerator specifications and financial metrics.\n",
    "\n",
    "| Parameter                          | Aerator 1      | Aerator 2 (Winner) | Unit / Notes                 |\n",
    "| ---------------------------------- | -------------- | ------------------ | ---------------------------- |\n",
    "| **Technical Specs**                |                |                    |                              |\n",
    "| SOTR                               | 1.9            | 3.5                | kg O₂/hr                     |\n",
    "| Power                              | 3              | 3                  | HP                           |\n",
    "| Power (kW)                         | 2.238          | 2.238              | kW                           |\n",
    "| OTR_T (31.5°C)                     | 1.26           | 2.33               | kg O₂/hr                     |\n",
    "| SAE                                | 0.85           | 1.56               | kg O₂/kWh                    |\n",
    "| **Unit Costs & Durability**        |                |                    |                              |\n",
    "| Cost per Unit                      | $700           | $900               | USD                          |\n",
    "| Durability                         | 2.0            | 5.0                | years                        |\n",
    "| Annual Maintenance per Unit        | $65            | $50                | USD                          |\n",
    "| **Implementation**                 |                |                    |                              |\n",
    "| Number Required                    | 4,356          | 2,367              | Units                        |\n",
    "| Total Power Installed              | 13,068         | 7,101              | HP                           |\n",
    "| Aerators per Hectare               | 4.36           | 2.37               | Units/ha                     |\n",
    "| HP per Hectare                     | 13.07          | 7.10               | HP/ha                        |\n",
    "| **Financial Analysis**             |                |                    |                              |\n",
    "| Total Initial Investment (ΔI)      | $3,049,200     | $2,130,300         | USD (-$918,900 for A2 vs A1) |\n",
    "| Annual Energy Cost                 | $1,423,314     | $773,413           | USD                          |\n",
    "| Annual Maintenance Cost            | $283,140       | $118,350           | USD                          |\n",
    "| Annual Replacement Cost            | $1,524,600     | $426,060           | USD                          |\n",
    "| **Total Annual Cost**              | **$3,231,054** | **$1,317,823**     | **USD**                      |\n",
    "| Annual Saving (A2 vs A1)           | --             | $1,913,231         | USD                          |\n",
    "| Cost as % of Revenue               | 6.37%          | 2.60%              | %                            |\n",
    "| NPV of Savings (A2 vs A1, 10 yrs)  | $0             | $14,625,751        | USD                          |\n",
    "| Payback Period (A2 vs A1)          | N/A            | 0.01               | years (Relative Payback)     |\n",
    "| ROI (A2 vs A1)                     | 0%             | 150.42%            | % (Relative ROI)             |\n",
    "| IRR (A2 vs A1, 10 yrs)             | -100%          | 343.93%            | % (Adapted IRR)              |\n",
    "| Profitability Index (k) (A2 vs A1) | 0              | 11.5               | (Relative k)                 |\n",
    "| Opportunity Cost (Choosing A1)     | $14,625,751    | $0                 | USD                          |\n",
    "| Equilibrium Price (for A1)         | $9,082         | N/A                | USD                          |\n",
    "\n",
    "_Note:_ Table 1 summarizes the technical and financial comparison of Aerator 1 and Aerator 2, highlighting efficiency and cost differences.\n"
   ]
  },
  {
   "cell_type": "markdown",
   "id": "542af904",
   "metadata": {},
   "source": [
    "\n",
    "# 4. Discussion\n",
    "\n",
    "The analysis demonstrates Aerator 2's economic superiority despite its higher unit cost ($900 vs $700) (Boyd & Hanson, 2021; The Fish Site, 2021). Key findings include:\n",
    "\n",
    "1. **Efficiency Advantage:** Aerator 2's higher SAE (1.56 vs 0.85 kg O₂/kWh) reduces equipment needs by 45% (2,367 vs 4,356 units) (Kumar et al., 2020; Roy et al., 2024).\n",
    "2. **Lower Initial Investment:** Fewer units result in a lower total investment for Aerator 2 ($2.13M vs $3.05M).\n",
    "3. **Annual Savings:** Aerator 2 saves $1,913,231 annually, driven by reduced energy and replacement costs (Boyd & Hanson, 2021; The Fish Site, 2021).\n",
    "4. **Financial Metrics:** NPV of savings is $14.6M, with relative ROI of 150.42% and IRR of 343.93%, indicating immediate benefits (Intelligon, 2022; Susilowati et al., 2021).\n",
    "5. **Opportunity Cost:** Choosing Aerator 1 incurs a $14.6M opportunity cost (Boyd & Hanson, 2021).\n",
    "6. **Equilibrium Price:** Aerator 1's price would need to be negative ($9,082 threshold) to compete, highlighting its inefficiency (Asche et al., 2021).\n",
    "\n",
    "[Placeholder: Discuss in-loco data results, farmer evidence on low-durability aerators, and AeraSync API's role in refining financial models.]\n"
   ]
  },
  {
   "cell_type": "markdown",
   "id": "eb68fa96",
   "metadata": {},
   "source": [
    "\n",
    "# 5. Conclusion\n",
    "\n",
    "This study reinforces that prioritizing upfront cost savings over operational efficiency (SAE, OTR_T) and durability is economically detrimental. Comprehensive, adapted mathematical models (NPV, opportunity cost, equilibrium pricing) provide decision support for sustainable shrimp farm management (Engle, 2010; Merino et al., 2024).\n"
   ]
  },
  {
   "cell_type": "markdown",
   "id": "0e77d713",
   "metadata": {},
   "source": [
    "\n",
    "# 6. Glossary\n",
    "\n",
    "- **OTR_T:** Temperature-Adjusted Oxygen Transfer Rate, oxygen transfer adjusted for temperature.\n",
    "- **SAE:** Standard Aeration Efficiency, oxygen transferred per unit power.\n",
    "- **TOD:** Total Oxygen Demand, oxygen required by shrimp and microbial activity.\n",
    "- **NPV:** Net Present Value, present value of cost savings.\n",
    "- **IRR:** Internal Rate of Return, rate making NPV zero.\n",
    "- **ROI:** Return on Investment, relative return adjusted for efficiency.\n",
    "- **k:** Profitability Index, relative NPV scaled by efficiency.\n"
   ]
  },
  {
   "cell_type": "markdown",
   "id": "3d9873d8",
   "metadata": {},
   "source": [
    "\n",
    "# 7. Declaration of Generative AI and AI-Assisted Technologies in the Writing Process\n",
    "\n",
    "During the preparation of this work, the author(s) used [NAME TOOL / SERVICE, e.g., Grok by xAI] to assist in drafting LaTeX equations and refining text readability. After using this tool/service, the author(s) reviewed and edited the content as needed and take(s) full responsibility for the content of the published article.\n"
   ]
  },
  {
   "cell_type": "markdown",
   "id": "a067e1bc",
   "metadata": {},
   "source": [
    "\n",
    "# 8. Author Contributions\n",
    "\n",
    "- **Conceptualization:** [Author Name(s)]\n",
    "- **Data Curation:** [Author Name(s)]\n",
    "- **Formal Analysis:** [Author Name(s)]\n",
    "- **Investigation:** [Author Name(s)]\n",
    "- **Methodology:** [Author Name(s)]\n",
    "- **Software:** [Author Name(s)] (AeraSync API development)\n",
    "- **Writing – Original Draft:** [Author Name(s)]\n",
    "- **Writing – Review & Editing:** [Author Name(s)]\n"
   ]
  },
  {
   "cell_type": "markdown",
   "id": "10e648e9",
   "metadata": {},
   "source": [
    "\n",
    "# 9. Funding\n",
    "\n",
    "[Placeholder: This research was supported by [Funding Agency, Grant Number]. If no funding, state: This research did not receive any specific grant from funding agencies in the public, commercial, or not-for-profit sectors.]\n"
   ]
  },
  {
   "cell_type": "markdown",
   "id": "215f1850",
   "metadata": {},
   "source": [
    "\n",
    "# 10. Acknowledgements\n",
    "\n",
    "[Placeholder: Acknowledge individuals who assisted with data collection, farmer interviews, or manuscript preparation.]\n"
   ]
  },
  {
   "cell_type": "markdown",
   "id": "284e0e99",
   "metadata": {},
   "source": [
    "\n",
    "# 11. Data Availability\n",
    "\n",
    "[Placeholder: Research data (in-loco measurements, farmer interviews) have been deposited in [Repository Name, DOI/Link]. If unavailable, state reason, e.g., confidentiality of farmer data.]\n"
   ]
  },
  {
   "cell_type": "markdown",
   "id": "acb44954",
   "metadata": {},
   "source": [
    "\n",
    "# 12. Supplementary Material\n",
    "\n",
    "[Placeholder: Supplementary files (e.g., AeraSync API code, raw data tables, farmer interview transcripts) are available at [Repository/Link].]\n"
   ]
  },
  {
   "cell_type": "markdown",
   "id": "f75240c8",
   "metadata": {},
   "source": [
    "\n",
    "# 13. Vitae\n",
    "\n",
    "- **[Author Name]:** [100-word biography, e.g., [Author Name] is a researcher at [Institution], specializing in aquaculture engineering. Their work focuses on optimizing equipment for shrimp farming. They developed the AeraSync API, enhancing economic models for aquaculture. [Degrees, notable achievements].]\n",
    "- **Photo:** [Submit as separate file, Figure_1.jpg]\n"
   ]
  },
  {
   "cell_type": "markdown",
   "id": "08ca21c8",
   "metadata": {},
   "source": [
    "\n",
    "# 14. References\n",
    "\n",
    "- Asche, F., Roll, K. H., Tveteras, R., 2021. Market aspects and external economic effects of aquaculture. Aquac. Econ. Manag. 25, 1–7. https://doi.org/10.1080/13657305.2020.1869861\n",
    "- Boyd, C. E., 2015. Efficiency of mechanical aeration. Responsible Seafood Advocate. https://www.globalseafood.org/advocate/efficiency-of-mechanical-aeration/ (accessed 14 May 2025).\n",
    "- Boyd, C. E., 2020. Energy use in aquaculture pond aeration, Part 1. Responsible Seafood Advocate. https://www.globalseafood.org/advocate/energy-use-in-aquaculture-pond-aeration-part-1/ (accessed 14 May 2025).\n",
    "- Boyd, C. E., Hanson, T. R., 2021. Aerator energy use in shrimp farming and means for improvement. J. World Aquac. Soc. 52, 566–578. https://doi.org/10.1111/jwas.12753\n",
    "- Engle, C. R., 2010. Aquaculture economics and financing: Management and analysis. Wiley-Blackwell, Ames, IA. https://onlinelibrary.wiley.com/doi/book/10.1002/9780813814346\n",
    "- Engle, C. R., 2017. Aquaculture businesses: A practical guide to economics and marketing. 5m Publishing, Sheffield, UK.\n",
    "- Food and Agriculture Organization of the United Nations, n.d. Chapter 24 economic aspects of aquafarm construction and maintenance, in: Simple methods for aquaculture - Manual. FAO, Rome.\n",
    "- Intelligon, 2022. Shrimp farming basics: Project viability and investment analysis. Intelligon Blogs. https://blogs.intelligon.com/2022/02/28/shrimp-farming-basics-project-viability-and-investing-assessment/ (accessed 14 May 2025).\n",
    "- Jolly, C. M., Clonts, H. A., 1993. Economics of aquaculture. Food Products Press, New York.\n",
    "- Kumar, G., Engle, C., Tucker, C. S., 2020. Assessment of standard aeration efficiency of different aerators and its relation to the overall economics in shrimp culture. Aquac. Eng. 90, 102088. https://doi.org/10.1016/j.aquaeng.2020.102088\n",
    "- Merino, G., Barange, M., Blanchard, J. L., Harle, J., Holmes, R., Allen, I., Allison, E. H., Badjeck, M.-C., Dulvy, N. K., Holt, J., Jennings, S., Mullon, C., Rodwell, L. D., 2024. Environmental, economic, and social sustainability in aquaculture: The aquaculture performance indicators. Nat. Commun. 15, 4955. https://doi.org/10.1038/s41467-024-49556-8\n",
    "- Nunes, A. J. P., Musig, Y., 2013. Survey of aeration management in shrimp farming. SlideShare. https://www.slideshare.net/AquacultureASIA/survey-of-aeration-management-in-shrimp-farming (accessed 14 May 2025).\n",
    "- Responsible Seafood Advocate, 2022. A comparison of resource use in shrimp farming, part 3: Energy. Responsible Seafood Advocate. https://www.globalseafood.org/advocate/a-comparison-of-resource-use-in-shrimp-farming-part-3-energy/ (accessed 14 May 2025).\n",
    "- Roy, S. M., Sadek, S., Shafiq, M. A., Nasr, M., Mohsen, M., 2024. Advances in aeration and wastewater treatment in shrimp farming: Emerging trends, current challenges, and future perspectives. AQUA Water Infrastruct. Ecosyst. Soc. 73, 902–917. https://doi.org/10.2166/aqua.2024.256\n",
    "- Sadek, S., Nasr, M., Hassan, A., 2020. Assessment of the new generation aeration systems efficiency and water current flow rate, its relation to the cost economics at varying salinities. Aquac. Res. 51, 2257–2268. https://doi.org/10.1111/are.14562\n",
    "- Susilowati, Y. D., Perdana, M. C., Suparmanto, I., 2021. Sustainability and feasibility assessments of nanobubble aeration technology in economic-socio environment of Penaeus vannamei shrimp farming. BIO Web Conf. 33, 05005. https://doi.org/10.1051/bioconf/20213305005\n",
    "- The Fish Site, 2021. A simple means to improve shrimp farming efficiency. The Fish Site. https://thefishsite.com/articles/a-simple-means-to-improve-shrimp-farming-efficiency (accessed 14 May 2025).\n",
    "- Tveteras, R., 2009. Economic inefficiency and environmental impact: An application to aquaculture production. J. Environ. Econ. Manag. 58, 93–104. https://doi.org/10.1016/j.jeem.2008.10.005\n",
    "- Valderrama, D., Hishamunda, N., Cai, J., 2023. Economic analysis of the contributions of aquaculture to future food security. Aquaculture 577, 740023. https://doi.org/10.1016/j.aquaculture.2023.740023\n",
    "- Walras, L., 1874. Éléments d'économie politique pure, ou théorie de la richesse sociale. L. Corbaz, Lausanne.\n"
   ]
  }
 ],
 "metadata": {
  "kernelspec": {
   "display_name": ".venv",
   "language": "python",
   "name": "python3"
  },
  "language_info": {
   "name": "python",
   "version": "3.13.3"
  }
 },
 "nbformat": 4,
 "nbformat_minor": 5
}
