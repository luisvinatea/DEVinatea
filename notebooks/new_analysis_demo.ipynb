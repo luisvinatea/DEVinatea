{
 "cells": [
  {
   "cell_type": "markdown",
   "metadata": {},
   "source": [
    "# Customer Segmentation Analysis\n",
    "\n",
    "**Author:** Luis Paulo Vinatea Barberena  \n",
    "**Date:** 2025-05-21  \n",
    "\n",
    "## Overview\n",
    "\n",
    "[Brief description of the analysis, objectives, and research questions]"
   ]
  },
  {
   "cell_type": "markdown",
   "metadata": {},
   "source": [
    "## 1. Setup and Environment"
   ]
  },
  {
   "cell_type": "code",
   "execution_count": 3,
   "metadata": {},
   "outputs": [],
   "source": [
    "# Import standard libraries\n",
    "import pandas as pd\n",
    "import numpy as np\n",
    "import matplotlib.pyplot as plt\n",
    "import seaborn as sns\n",
    "\n",
    "# Import project utilities\n",
    "import sys\n",
    "sys.path.append('../')\n",
    "from src.utils.data_processing import *\n",
    "from src.utils.visualization import *\n",
    "\n",
    "# Visualization settings\n",
    "plt.style.use('seaborn-v0_8-whitegrid')\n",
    "%matplotlib inline\n",
    "sns.set_palette('viridis')\n",
    "plt.rcParams['figure.figsize'] = (12, 8)\n",
    "pd.set_option('display.max_columns', None)\n",
    "\n",
    "# For reproducibility\n",
    "np.random.seed(42)"
   ]
  },
  {
   "cell_type": "markdown",
   "metadata": {},
   "source": [
    "## 2. Data Loading and Inspection"
   ]
  },
  {
   "cell_type": "code",
   "execution_count": 4,
   "metadata": {},
   "outputs": [
    {
     "name": "stdout",
     "output_type": "stream",
     "text": [
      "Error loading data: No columns to parse from file\n"
     ]
    }
   ],
   "source": [
    "# Data paths\n",
    "DATA_DIR = '../data/'\n",
    "RAW_DATA_PATH = DATA_DIR + 'raw/dataset.csv'  # Update with actual filename\n",
    "\n",
    "# Load data\n",
    "try:\n",
    "    df = pd.read_csv(RAW_DATA_PATH)\n",
    "    print(f\"Data loaded successfully with {df.shape[0]} rows and {df.shape[1]} columns.\")\n",
    "except Exception as e:\n",
    "    print(f\"Error loading data: {e}\")"
   ]
  }
 ],
 "metadata": {
  "kernelspec": {
   "display_name": ".venv",
   "language": "python",
   "name": "python3"
  },
  "language_info": {
   "codemirror_mode": {
    "name": "ipython",
    "version": 3
   },
   "file_extension": ".py",
   "mimetype": "text/x-python",
   "name": "python",
   "nbconvert_exporter": "python",
   "pygments_lexer": "ipython3",
   "version": "3.13.3"
  }
 },
 "nbformat": 4,
 "nbformat_minor": 4
}
