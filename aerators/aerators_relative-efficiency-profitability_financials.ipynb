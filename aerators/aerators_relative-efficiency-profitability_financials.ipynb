{
 "cells": [
  {
   "cell_type": "markdown",
   "id": "b110a712",
   "metadata": {},
   "source": [
    "<!-- jupyter: {tags: [\"title\", \"metadata\"]} -->\n",
    "\n",
    "<style>\n",
    "@import url(\"styles.css\");\n",
    "</style>\n",
    "\n",
    "<div class=\"title-page\">\n",
    "    <h1>Analysis of Aerators for Shrimp Farming: Cost Optimization and the Real Cost of \"Cheap\"</h1>\n",
    "    <div class=\"author-info\">\n",
    "        <p>Luis Paulo Vinatea Barberena</p>  \n",
    "        <p class=\"affiliation\">BarberNode</p>  \n",
    "        <p>luisvinatea@icloud.com, +55 48 99221-9675</p>  \n",
    "        <p>Servidao das Caranhas, 22, Barra da Lagoa, Florianopolis, SC, Brazil, 88061635</p>  \n",
    "        <p>2025-05-02</p>  \n",
    "    </div>\n",
    "</div>"
   ]
  },
  {
   "cell_type": "code",
   "execution_count": 2,
   "id": "d093a490",
   "metadata": {
    "tags": [
     "hide_input"
    ]
   },
   "outputs": [],
   "source": [
    "import pandas as pd\n",
    "import numpy as np\n",
    "import os\n",
    "import sys\n",
    "import matplotlib.pyplot as plt"
   ]
  },
  {
   "cell_type": "markdown",
   "id": "0e57252a",
   "metadata": {},
   "source": [
    "<!-- jupyter: {tags: [\"abstract\"]} -->\n",
    "\n",
    "<div class=\"abstract\">\n",
    "    <h2>Abstract</h2>\n",
    "    <p>Aerator selection is a critical economic decision in shrimp farming, often complicated by the trade-off between initial cost and long-term operational efficiency. This paper presents an analysis comparing two aerator options within the context of a specific shrimp farm, integrating Léon Walras's General Equilibrium Theory and Friedrich von Wieser's concept of Opportunity Cost. The study evaluates aerators based on updated technical performance metrics (including Temperature-Adjusted Oxygen Transfer Rate - OTRT and Standard Aeration Efficiency - SAE) derived from the farm's Total Oxygen Demand (TOD) and detailed, adapted financial indicators (Net Present Value - NPV, Internal Rate of Return - IRR, Payback Period, Return on Investment - ROI, Profitability Index - k, Opportunity Cost, and Equilibrium Price) tailored for equipment comparison. Results from the specific case study demonstrate that prioritizing higher efficiency (Aerator 2) over lower initial unitary cost (Aerator 1) leads to substantial long-term savings, a significantly positive NPV, high interpreted ROI and IRR, rapid payback, and a considerable opportunity cost associated with choosing the less efficient option. The analysis underscores the importance of applying robust economic principles and adapted technical-financial assessments for optimizing operational costs and ensuring financial sustainability in shrimp aquaculture (Boyd & Hanson, 2021; The Fish Site, 2021).</p>\n",
    "\n",
    "<div class=\"keywords\">\n",
    "        <span class=\"keywords-title\">Keywords:</span> Shrimp Farming, Aquaculture Economics, Aerator Efficiency, Opportunity Cost, Cost Optimization, Mathematical Modeling, Financial Analysis, Equipment Comparison Metrics\n",
    "    </div>\n",
    "</div>\n"
   ]
  },
  {
   "cell_type": "markdown",
   "id": "07debb1e",
   "metadata": {},
   "source": [
    "\n",
    "<!-- jupyter: {tags: [\"highlights\"]} -->\n",
    "\n",
    "<div class=\"highlights\">\n",
    "    <h2>Highlights</h2>\n",
    "    <ul>\n",
    "        <li>Higher efficiency aerators reduce long-term costs in shrimp farming.</li>\n",
    "        <li>Adapted financial metrics reveal flaws in traditional equations.</li>\n",
    "        <li>Opportunity cost of low-efficiency aerators exceeds $14M in NPV.</li>\n",
    "        <li>In-loco data confirms poor performance of low-durability aerators.</li>\n",
    "    </ul>\n",
    "</div>"
   ]
  },
  {
   "cell_type": "markdown",
   "id": "13543c7d",
   "metadata": {},
   "source": [
    "<!-- jupyter: {tags: [\"section\", \"introduction\"]} -->\n",
    "\n",
    "<h2>1. Introduction</h2>\n",
    "<p>The economic analysis of optimal aerator choice in shrimp farming benefits from the General Equilibrium Theorem developed by Léon Walras in the 19th century, complemented by Friedrich von Wieser's concept of opportunity cost, introduced in 1914. Walras proposed a framework to understand how interconnected markets reach simultaneous equilibrium, where supply equals demand through relative prices (Walras, 1874). This approach is useful for analyzing complex systems like shrimp farms, where multiple \"markets\" (oxygen, energy, shrimp, operating costs) interact to maximize profitability (Asche et al., 2021). Opportunity cost measures the value of the best alternative forgone, evaluating aerator options (Boyd & Hanson, 2021).</p>"
   ]
  },
  {
   "cell_type": "markdown",
   "id": "e726db45",
   "metadata": {},
   "source": [
    "<!-- jupyter: {tags: [\"subsection\", \"introduction\"]} -->\n",
    "\n",
    "<h3>1.1 Analogy with the Oxygen Market and Opportunity Cost</h3>\n",
    "<p>In shrimp farming, dissolved oxygen is a critical input. An \"internal oxygen market\" can be conceptualized where demand (Total Oxygen Demand, TOD) is driven by shrimp and microbial needs, and supply depends on aerators' Temperature-Adjusted Oxygen Transfer Rate (OTRT). Aerators interact with energy, maintenance, and replacement markets, connecting to the external shrimp market. Walras's Theorem suggests equilibrium when these markets adjust simultaneously. Choosing a cheaper, less efficient aerator incurs an opportunity cost equal to the net present value of savings forgone by not selecting the more efficient option (Boyd & Hanson, 2021; Susilowati et al., 2021).</p>"
   ]
  },
  {
   "cell_type": "markdown",
   "id": "db0fe8b6",
   "metadata": {},
   "source": [
    "<!-- jupyter: {tags: [\"subsection\", \"introduction\"]} -->\n",
    "\n",
    "<h3>1.2 The Cake Recipe: Why Assuming HP per Pound of Shrimp is Incorrect</h3>\n",
    "<p>Assuming a fixed horsepower (HP)-per-production ratio is erroneous. Shrimp production depends on multiple factors (dissolved oxygen, temperature, salinity, density). Aerator HP does not directly equate to oxygen supply; OTR_T is critical. Fixed HP ratios ignore interdependencies, leading to inefficient investments in low-OTR_T aerators and significant opportunity costs (Boyd, 2015; Responsible Seafood Advocate, 2022).</p>"
   ]
  },
  {
   "cell_type": "markdown",
   "id": "b4522621",
   "metadata": {},
   "source": [
    "<!-- jupyter: {tags: [\"subsection\", \"introduction\"]} -->\n",
    "\n",
    "<h3>1.3 Original Equation of Léon Walras's General Equilibrium</h3>\n",
    "<p>Walras formalized general equilibrium with supply/demand equations, subject to Walras's Law (excess demands sum to zero). Equilibrium prices are found via \"tâtonnement\" (Walras, 1874). In shrimp farming, equilibrium involves optimizing aerator costs, meeting TOD, maximizing profits, and accounting for opportunity cost (Asche et al., 2021; Valderrama et al., 2023).</p>"
   ]
  },
  {
   "cell_type": "markdown",
   "id": "eb26a7c6",
   "metadata": {},
   "source": [
    "<!-- jupyter: {tags: [\"section\", \"methods\"]} -->\n",
    "\n",
    "<div class=\"section\">\n",
    "<h2>2. Materials and Methods</h2>\n",
    "\n",
    "<h3>2.1 Data Collection</h3>\n",
    "<p>[Placeholder: Describe in-loco data collection methods, including shrimp farm locations, measurement of TOD, OTR_T, SAE, and other parameters. Include evidence from shrimp farmers on low-durability aerator performance, e.g., failure rates, maintenance issues.]</p>\n",
    "</div>"
   ]
  },
  {
   "cell_type": "markdown",
   "id": "9ed41fbf",
   "metadata": {},
   "source": [
    "<!-- jupyter: {tags: [\"subsection\", \"methods\"]} -->\n",
    "<div class=\"aerasync-api-development\">\n",
    "<h3>2.2 AeraSync API Development</h3>\n",
    "\n",
    "<p>The financial metrics were adapted during the development of the AeraSync API, using Python's unittest framework to identify flaws in traditional equations (e.g., IRR, ROI). Adaptations were mathematically propagated to ensure applicability to aquaculture equipment comparison.</p>\n",
    "\n",
    "</div>\n",
    "[Placeholder: Detail AeraSync API methodology, including Python code snippets, unittest results, and how flaws were identified and corrected.]"
   ]
  },
  {
   "cell_type": "markdown",
   "id": "3010577f",
   "metadata": {},
   "source": [
    "<!-- jupyter: {tags: [\"subsection\", \"methods\", \"mathematical-models\"]} -->\n",
    "\n",
    "<div class=\"subsection\">\n",
    "<h3>2.3 Mathematical Models for Aerator Comparison</h3>\n",
    "\n",
    "<h4>2.3.1 Oxygen Transfer Rate Calculations</h4>\n",
    "\n",
    "<h5>2.3.1.1 Standard Oxygen Transfer Rate (SOTR)</h5>\n",
    "<p>The baseline oxygen transfer capacity under standard conditions (20°C, 0 DO, 1 atm), measured in kg O₂/hr (Kumar et al., 2020).</p>\n",
    "</div>"
   ]
  },
  {
   "cell_type": "markdown",
   "id": "eb9d305e",
   "metadata": {},
   "source": [
    "<div class=\"equation-block\">\n",
    "<h5>2.3.1.2 Temperature-Adjusted Oxygen Transfer Rate (OTRT)</h5>\n",
    "\n",
    "$$\n",
    "OTR_T = (\\text{SOTR} \\times 0.5) \\times \\theta^{(T-20)}\n",
    "$$\n",
    "\n",
    "Where $\\theta = 1.024$ (temperature correction factor) (Boyd, 2015).\n",
    "</div>"
   ]
  },
  {
   "cell_type": "markdown",
   "id": "e037862f",
   "metadata": {},
   "source": [
    "<div class=\"equation-block\">\n",
    "<h5>2.3.1.3 Standard Aeration Efficiency (SAE)</h5>\n",
    "\n",
    "$$\n",
    "\\text{SAE} = \\frac{\\text{SOTR}}{\\text{Power (kW)}} \\quad ( kg \\ O_2 / \\text{kWh})\n",
    "$$\n",
    "\n",
    "Where $\\text{Power (kW)} = \\text{Power (HP)} \\times 0.746$ (Kumar et al., 2020).\n",
    "</div>"
   ]
  },
  {
   "cell_type": "code",
   "execution_count": 10,
   "id": "fcc4f302",
   "metadata": {
    "tags": [
     "hide_input"
    ]
   },
   "outputs": [
    {
     "data": {
      "image/png": "[encoded data removed]",
      "text/plain": [
       "<Figure size 1000x600 with 1 Axes>"
      ]
     },
     "metadata": {},
     "output_type": "display_data"
    }
   ],
   "source": [
    "# Graphical Representation of the SAE Equation\n",
    "# This script generates a plot of the SAE equation, which is used to calculate the\n",
    "# specific absorption efficiency in a thermal system.\n",
    "# The SAE equation is given by:\n",
    "# SAE = SOTR / Power (kW) measured in kg of oxygen per kWh\n",
    "# where:\n",
    "# SOTR: Standard Oxygen Transfer Rate\n",
    "# Power: Power input in kW\n",
    "# We use interpolation with np.linspace to create a smooth curve for the plot and plot SOTR against kWh\n",
    "\n",
    "# Constants\n",
    "SOTR = 1.5  # Standard Oxygen Transfer Rate in kg O2/h\n",
    "Power = 3.0  # Power input in HP\n",
    "\n",
    "# Convert Power from HP to kW\n",
    "Power_kW = Power * 0.746  # 1 HP = 0.746 kW\n",
    "\n",
    "# Create a range of SOTR values for plotting\n",
    "SOTR_values = np.linspace(0, 3, 100)  # SOTR from 0 to 3 kg O2/h\n",
    "\n",
    "# Create a range of kwh values for plotting\n",
    "kWh_values = np.linspace(0, 3, 100)  # kWh from 0 to 3\n",
    "# Calculate SAE for each SOTR value\n",
    "SAE_values = SOTR_values / Power_kW\n",
    "\n",
    "# Plotting\n",
    "plt.figure(figsize=(10, 6))\n",
    "plt.plot(SOTR_values, kWh_values, label='SAE', color='blue')\n",
    "plt.title('Standard Aerator Efficiency (SAE)')\n",
    "plt.xlabel('Standard Oxygen Transfer Rate (kg O2/h)')\n",
    "plt.ylabel('kWh')\n",
    "plt.axhline(y=SAE, color='r', linestyle='--', label=f'SAE (SOTR={SOTR})')  # type: ignore # noqa: F821\n",
    "plt.legend()\n",
    "plt.grid()\n",
    "plt.show()"
   ]
  },
  {
   "cell_type": "code",
   "execution_count": 12,
   "id": "a92ac058",
   "metadata": {},
   "outputs": [
    {
     "data": {
      "image/png": "[encoded data removed]",
      "text/plain": [
       "<Figure size 1000x600 with 1 Axes>"
      ]
     },
     "metadata": {},
     "output_type": "display_data"
    }
   ],
   "source": [
    "# Using the above graph we can derive a curve for the SOTR against Price of Transferred Oxygen given by a constant price of kwh of 0.05\n",
    "\n",
    "# Constants\n",
    "price_per_kWh = 0.05  # Price of kWh in currency units\n",
    "\n",
    "# Use the defined SOTR values from above for the x-axis and kwh values for the y-axis while the curve represents the price of transferred oxygen per hour\n",
    "\n",
    "# Calculate the price of transferred oxygen\n",
    "price_transferred_oxygen = kWh_values * price_per_kWh\n",
    "\n",
    "# Given that aerators operate at a fixed schedule (8 hours per night), for a constant power, the more oxygen is transferred per hour, the less the cost of transferred oxygen per night and consequently the price of transferred oxygen is relatively lower\n",
    "\n",
    "# Calculate the price of transferred oxygen per hour\n",
    "price_transferred_oxygen_per_hour = price_transferred_oxygen / 8\n",
    "\n",
    "# Plotting\n",
    "plt.figure(figsize=(10, 6))\n",
    "plt.plot(SOTR_values, price_transferred_oxygen_per_hour, label='Price of Transferred Oxygen', color='green')\n",
    "plt.title('Price of Transferred Oxygen vs SOTR')\n",
    "plt.xlabel('Standard Oxygen Transfer Rate (kg O2/h)')\n",
    "plt.ylabel('Price of Transferred Oxygen (currency units)')\n",
    "plt.legend()\n",
    "plt.grid()\n",
    "plt.show()"
   ]
  },
  {
   "cell_type": "markdown",
   "id": "a545d2dc",
   "metadata": {},
   "source": [
    "<!-- jupyter: {tags: [\"equation\", \"mathematical-models\"]} -->\n",
    "\n",
    "<div class=\"equation-block\">\n",
    "<h5>2.3.1.4 Aerator Quantity Calculation</h5>\n",
    "\n",
    "$$\n",
    "\\text{Number of Aerators} = \\left\\lceil \\frac{TOD}{OTR_T} \\right\\rceil\n",
    "$$\n",
    "\n",
    "</div>"
   ]
  },
  {
   "cell_type": "markdown",
   "id": "f849ca56",
   "metadata": {},
   "source": [
    "<!-- jupyter: {tags: [\"equation\", \"mathematical-models\"]} -->\n",
    "\n",
    "### 2.3.2 Annual Revenue\n",
    "\n",
    "$$\n",
    "\\text{Annual Revenue} = \\text{Total Annual Production (kg)} \\times \\text{Shrimp Price (\\$/kg)}\n",
    "$$\n",
    "\n",
    "Production depends on density, depth, area, and culture cycles (Engle, 2010)."
   ]
  },
  {
   "cell_type": "markdown",
   "id": "6f322e3e",
   "metadata": {},
   "source": [
    "<!-- jupyter: {tags: [\"equation\", \"mathematical-models\"]} -->\n",
    "\n",
    "### 2.3.3 Initial Investment\n",
    "\n",
    "$$\n",
    "\\text{Total Initial Cost} = \\text{Number of Aerators} \\times \\text{Cost per Aerator}\n",
    "$$\n"
   ]
  },
  {
   "cell_type": "markdown",
   "id": "8bdd53f0",
   "metadata": {},
   "source": [
    "<!-- jupyter: {tags: [\"equation\", \"mathematical-models\"]} -->\n",
    "\n",
    "### 2.3.4 Annual Operating Costs\n",
    "\n",
    "1. **Energy Cost:** $\\text{Power (kW)} \\times \\text{Energy Cost (\\$/kWh)} \\times \\text{Operating Hours per Year} \\times \\text{Number of Aerators}$\n",
    "2. **Maintenance Cost:** $\\text{Maintenance Cost per Unit per Year} \\times \\text{Number of Aerators}$\n",
    "3. **Replacement Cost (Annualized):** $(\\text{Number of Aerators} \\times \\text{Cost per Aerator}) / \\text{Durability (years)}$"
   ]
  },
  {
   "cell_type": "markdown",
   "id": "fabd98fb",
   "metadata": {},
   "source": [
    "<!-- jupyter: {tags: [\"equation\", \"mathematical-models\"]} -->\n",
    "\n",
    "### 2.3.5 Total Annual Cost\n",
    "\n",
    "$$\n",
    "\\text{Total Annual Cost} = \\text{Energy Cost} + \\text{Maintenance Cost} + \\text{Replacement Cost}\n",
    "$$\n"
   ]
  },
  {
   "cell_type": "markdown",
   "id": "8918e7ec",
   "metadata": {},
   "source": [
    "### 2.3.6 Net Present Value (NPV) of Savings\n",
    "\n",
    "$$\n",
    "\\text{NPV}_{\\text{Savings}} = \\sum_{i=1}^{n} \\frac{\\text{Annual Saving}_{\\text{Year 1}} \\times (1 + r_{\\text{inflation}})^{i-1}}{(1 + r\\_{\\text{real}})^i}\n",
    "$$\n",
    "\n",
    "Where $r*{\\text{real}} = \\frac{1 + r*{\\text{nominal}}}{1 + r\\_{\\text{inflation}}} - 1$ (Intelligon, 2022; Susilowati et al., 2021)."
   ]
  },
  {
   "cell_type": "markdown",
   "id": "aa4385e0",
   "metadata": {},
   "source": [
    "<!-- jupyter: {tags: [\"subsection\", \"mathematical-models\"]} -->\n",
    "\n",
    "### 2.3.7 Adapted Financial Metrics\n",
    "\n",
    "Standard metrics (IRR, Payback, ROI, k) were adapted due to violations of positive incremental investment assumptions in aquaculture equipment comparison (Engle, 2010; Kumar et al., 2020)."
   ]
  },
  {
   "cell_type": "markdown",
   "id": "eaefe204",
   "metadata": {},
   "source": [
    "<!-- jupyter: {tags: [\"equation\", \"mathematical-models\"]} -->\n",
    "\n",
    "#### 2.3.7.1 Internal Rate of Return (IRR)\n",
    "\n",
    "$$\n",
    "0 = - \\Delta I + \\sum_{i=1}^{n} \\frac{S_{yr1} \\times (1 + r_{\\text{inflation}})^{i-1}}{(1 + \\text{IRR})^i}\n",
    "$$\n",
    "\n",
    "If $\\Delta I \\leq 0$, standard IRR is undefined; adapted IRR anchors against baseline cost, scaled by SOTR ratio, capped at 100% (Kumar et al., 2020)."
   ]
  },
  {
   "cell_type": "markdown",
   "id": "98f5b61a",
   "metadata": {},
   "source": [
    "<!-- jupyter: {tags: [\"equation\", \"mathematical-models\"]} -->\n",
    "\n",
    "#### 2.3.7.2 Payback Period\n",
    "\n",
    "$$\n",
    "\\text{Payback Period} =\n",
    "\\begin{cases}\n",
    "\\frac{0.01}{R_{SOTR}} & \\text{if } \\Delta I < 0 \\text{ and } S_{yr1} > 0 \\\\\n",
    "\\frac{\\Delta I}{S_{yr1}} & \\text{if } \\Delta I \\geq 0 \\text{ and } S_{yr1} > 0 \\\\\n",
    "\\infty & \\text{if } S_{yr1} \\leq 0\n",
    "\\end{cases}\n",
    "$$\n",
    "\n",
    "If $\\Delta I \\leq 0$, a small value divided by SOTR ratio indicates immediate benefit (Susilowati et al., 2021)."
   ]
  },
  {
   "cell_type": "markdown",
   "id": "b6482288",
   "metadata": {},
   "source": [
    "<!-- jupyter: {tags: [\"equation\", \"mathematical-models\"]} -->\n",
    "\n",
    "#### 2.3.7.3 Return on Investment (ROI)\n",
    "\n",
    "$$\n",
    "\\text{ROI}_{\\text{relative}} =\n",
    "\\begin{cases}\n",
    "\\min\\left( \\left( \\frac{S_{yr1}}{C_{base}} \\times R_{SOTR} \\times (1 + F_{cost\\_sav}) \\right) \\times 100, R_{SOTR} \\times 100 \\right) & \\text{if } \\Delta I < 0 \\text{ and } S_{yr1} > 0 \\\\\n",
    "\\min\\left( \\left( \\frac{S_{yr1}}{C_{base}} \\times R_{SOTR} \\right) \\times 100, R_{SOTR} \\times 100 \\right) & \\text{if } \\Delta I = 0 \\text{ and } S_{yr1} > 0 \\\\\n",
    "\\min\\left( \\left( \\frac{S_{yr1}}{\\Delta I} \\right) \\times 100, R_{SOTR} \\times 100 \\right) & \\text{if } \\Delta I > 0 \\text{ and } S_{yr1} > 0 \\\\\n",
    "0 & \\text{if } S_{yr1} \\leq 0 \\text{ or } C_{base} \\leq 0\n",
    "\\end{cases}\n",
    "$$\n",
    "\n",
    "Where $F_{cost\\_sav} = \\frac{|\\Delta I|}{C_{base}}$. If $\\Delta I \\leq 0$, relative ROI is based on savings relative to baseline cost, scaled by SOTR ratio (Intelligon, 2022)."
   ]
  },
  {
   "cell_type": "markdown",
   "id": "c700ac98",
   "metadata": {},
   "source": [
    "#### 2.3.7.4 Profitability Index (k)\n",
    "\n",
    "$$\n",
    "k_{\\text{relative}} =\n",
    "\\begin{cases}\n",
    "k_{base} \\times (1 + F_{cost\\_sav}) & \\text{if } \\Delta I < 0 \\\\\n",
    "k_{base} & \\text{if } \\Delta I = 0 \\\\\n",
    "k_{base} \\times F_{cost} & \\text{if } \\Delta I > 0 \\\\\n",
    "0 & \\text{if } NPV_{sav} \\leq 0 \\text{ or } C_{base} \\leq 0\n",
    "\\end{cases}\n",
    "$$\n",
    "\n",
    "Where $k_{base} = \\frac{NPV_{sav}}{C_{base}} \\times R_{SOTR}$, $F_{cost\\_sav} = \\frac{|\\Delta I|}{C_{base}}$, $F_{cost} = \\frac{C_{base}}{C_{base} + \\Delta I}$ (Engle, 2010)."
   ]
  },
  {
   "cell_type": "markdown",
   "id": "70c22a79",
   "metadata": {},
   "source": [
    "<!-- jupyter: {tags: [\"equation\", \"mathematical-models\"]} -->\n",
    "\n",
    "#### 2.3.7.5 Opportunity Cost\n",
    "\n",
    "$$\n",
    "\\text{Opportunity Cost}_{\\text{baseline}} = \\text{NPV}_{\\text{Savings (winner vs. baseline)}}\n",
    "$$\n",
    "\n",
    "Quantifies economic loss from less efficient equipment (Boyd & Hanson, 2021; Susilowati et al., 2021)."
   ]
  },
  {
   "cell_type": "markdown",
   "id": "0f5ef886",
   "metadata": {},
   "source": [
    "<!-- jupyter: {tags: [\"equation\", \"mathematical-models\"]} -->\n",
    "\n",
    "#### 2.3.7.6 Equilibrium Price\n",
    "\n",
    "$$\n",
    "P_{eq} =\n",
    "\\begin{cases}\n",
    "\\max\\left(0, P_{base} \\times R_{SOTR} \\times \\left(\\frac{1}{1 + F_{cost, eq}}\\right)\\right) & \\text{if } C_{base} > 0 \\text{ and } P_{base} > 0 \\\\\n",
    "\\max\\left(0, P_{base} \\times R_{SOTR}\\right) & \\text{if } C_{base} \\leq 0 \\text{ or } P_{base} \\leq 0 \\\\\n",
    "0 & \\text{if calculation prerequisites fail}\n",
    "\\end{cases}\n",
    "$$\n",
    "\n",
    "Where $P_{base} = \\frac{(C_{\\text{annual, non-winner}} - (C_{E, \\text{winner}} + C_{M, \\text{winner}})) \\times D_{\\text{winner}}}{N_{\\text{winner}}}$, $F_{cost, eq} = P_{base} / C_{base}$ (Asche et al., 2021)."
   ]
  },
  {
   "cell_type": "markdown",
   "id": "fe8aa2c5",
   "metadata": {},
   "source": [
    "<!-- jupyter: {tags: [\"section\", \"results\"]} -->\n",
    "<div class=\"results\">\n",
    "<h2>3. Results</h2>\n",
    "\n",
    "</div>\n"
   ]
  },
  {
   "cell_type": "markdown",
   "id": "143a364b",
   "metadata": {},
   "source": [
    "<div class=\"case-study\">\n",
    "<h3>3.1 Case Study: Comparative Analysis of Aerators</h3>\n",
    "\n",
    "</div>\n"
   ]
  },
  {
   "cell_type": "markdown",
   "id": "2a8ed29a",
   "metadata": {},
   "source": [
    "<div class=\"farm-conditions\">\n",
    "<h4>3.1.1 Farm Operating Conditions</h4>\n",
    "</div>\n",
    "\n",
    "- **Total Oxygen Demand (TOD):** 5,443.76 kg O₂/day\n",
    "- **Farm Area:** 1,000 hectares\n",
    "- **Shrimp Price:** $5.00/kg\n",
    "- **Culture Period:** 120 days\n",
    "- **Shrimp Density:** 0.33 kg/m³\n",
    "- **Pond Depth:** 1.0 m\n",
    "- **Water Temperature (T):** 31.5°C\n",
    "- **Calculated Annual Revenue:** $50,694,439.38\n",
    "- **Analysis Horizon (n):** 10 years\n",
    "- **Annual Inflation Rate ($r_{\\text{inflation}}$):** 2.5%\n",
    "- **Annual Discount Rate ($r_{\\text{nominal}}$):** 10%"
   ]
  },
  {
   "cell_type": "markdown",
   "id": "25b602fe",
   "metadata": {},
   "source": [
    "<h3>3.1.2 Aerator Specifications and Calculated Metrics</h3>\n",
    "\n",
    "<p><strong>Table 1.</strong> Aerator specifications and financial metrics.</p>\n",
    "\n",
    "<table>\n",
    "<caption>Table 1. Aerator specifications and financial metrics.</caption>\n",
    "<tr>\n",
    "    <th>Parameter</th>\n",
    "    <th>Aerator 1</th>\n",
    "    <th>Aerator 2 (Winner)</th>\n",
    "    <th>Unit / Notes</th>\n",
    "</tr>\n",
    "<tr>\n",
    "    <td colspan=\"4\"><strong>Technical Specs</strong></td>\n",
    "</tr>\n",
    "<tr>\n",
    "    <td>SOTR</td>\n",
    "    <td>1.9</td>\n",
    "    <td>3.5</td>\n",
    "    <td>kg O₂/hr</td>\n",
    "</tr>\n",
    "<tr>\n",
    "    <td>Power</td>\n",
    "    <td>3</td>\n",
    "    <td>3</td>\n",
    "    <td>HP</td>\n",
    "</tr>\n",
    "<tr>\n",
    "    <td>Power (kW)</td>\n",
    "    <td>2.238</td>\n",
    "    <td>2.238</td>\n",
    "    <td>kW</td>\n",
    "</tr>\n",
    "<tr>\n",
    "    <td>OTRT (31.5°C)</td>\n",
    "    <td>1.26</td>\n",
    "    <td>2.33</td>\n",
    "    <td>kg O₂/hr</td>\n",
    "</tr>\n",
    "<tr>\n",
    "    <td>SAE</td>\n",
    "    <td>0.85</td>\n",
    "    <td>1.56</td>\n",
    "    <td>kg O₂/kWh</td>\n",
    "</tr>\n",
    "<tr>\n",
    "    <td colspan=\"4\"><strong>Unit Costs & Durability</strong></td>\n",
    "</tr>\n",
    "<tr>\n",
    "    <td>Cost per Unit</td>\n",
    "    <td>$700</td>\n",
    "    <td>$900</td>\n",
    "    <td>USD</td>\n",
    "</tr>\n",
    "<tr>\n",
    "    <td>Durability</td>\n",
    "    <td>2.0</td>\n",
    "    <td>5.0</td>\n",
    "    <td>years</td>\n",
    "</tr>\n",
    "<tr>\n",
    "    <td>Annual Maintenance per Unit</td>\n",
    "    <td>$65</td>\n",
    "    <td>$50</td>\n",
    "    <td>USD</td>\n",
    "</tr>\n",
    "<tr>\n",
    "    <td colspan=\"4\"><strong>Implementation</strong></td>\n",
    "</tr>\n",
    "<tr>\n",
    "    <td>Number Required</td>\n",
    "    <td>4,356</td>\n",
    "    <td>2,367</td>\n",
    "    <td>Units</td>\n",
    "</tr>\n",
    "<tr>\n",
    "    <td>Total Power Installed</td>\n",
    "    <td>13,068</td>\n",
    "    <td>7,101</td>\n",
    "    <td>HP</td>\n",
    "</tr>\n",
    "<tr>\n",
    "    <td>Aerators per Hectare</td>\n",
    "    <td>4.36</td>\n",
    "    <td>2.37</td>\n",
    "    <td>Units/ha</td>\n",
    "</tr>\n",
    "<tr>\n",
    "    <td>HP per Hectare</td>\n",
    "    <td>13.07</td>\n",
    "    <td>7.10</td>\n",
    "    <td>HP/ha</td>\n",
    "</tr>\n",
    "<tr>\n",
    "    <td colspan=\"4\"><strong>Financial Analysis</strong></td>\n",
    "</tr>\n",
    "<tr>\n",
    "    <td>Total Initial Investment (ΔI)</td>\n",
    "    <td>$3,049,200</td>\n",
    "    <td>$2,130,300</td>\n",
    "    <td>USD (-$918,900 for A2 vs A1)</td>\n",
    "</tr>\n",
    "<tr>\n",
    "    <td>Annual Energy Cost</td>\n",
    "    <td>$1,423,314</td>\n",
    "    <td>$773,413</td>\n",
    "    <td>USD</td>\n",
    "</tr>\n",
    "<tr>\n",
    "    <td>Annual Maintenance Cost</td>\n",
    "    <td>$283,140</td>\n",
    "    <td>$118,350</td>\n",
    "    <td>USD</td>\n",
    "</tr>\n",
    "<tr>\n",
    "    <td>Annual Replacement Cost</td>\n",
    "    <td>$1,524,600</td>\n",
    "    <td>$426,060</td>\n",
    "    <td>USD</td>\n",
    "</tr>\n",
    "<tr>\n",
    "    <td><strong>Total Annual Cost</strong></td>\n",
    "    <td><strong>$3,231,054</strong></td>\n",
    "    <td><strong>$1,317,823</strong></td>\n",
    "    <td><strong>USD</strong></td>\n",
    "</tr>\n",
    "<tr>\n",
    "    <td>Annual Saving (A2 vs A1)</td>\n",
    "    <td>--</td>\n",
    "    <td>$1,913,231</td>\n",
    "    <td>USD</td>\n",
    "</tr>\n",
    "<tr>\n",
    "    <td>Cost as % of Revenue</td>\n",
    "    <td>6.37%</td>\n",
    "    <td>2.60%</td>\n",
    "    <td>%</td>\n",
    "</tr>\n",
    "<tr>\n",
    "    <td>NPV of Savings (A2 vs A1, 10 yrs)</td>\n",
    "    <td>$0</td>\n",
    "    <td>$14,625,751</td>\n",
    "    <td>USD</td>\n",
    "</tr>\n",
    "<tr>\n",
    "    <td>Payback Period (A2 vs A1)</td>\n",
    "    <td>N/A</td>\n",
    "    <td>0.01</td>\n",
    "    <td>years (Relative Payback)</td>\n",
    "</tr>\n",
    "<tr>\n",
    "    <td>ROI (A2 vs A1)</td>\n",
    "    <td>0%</td>\n",
    "    <td>150.42%</td>\n",
    "    <td>% (Relative ROI)</td>\n",
    "</tr>\n",
    "<tr>\n",
    "    <td>IRR (A2 vs A1, 10 yrs)</td>\n",
    "    <td>-100%</td>\n",
    "    <td>343.93%</td>\n",
    "    <td>% (Adapted IRR)</td>\n",
    "</tr>\n",
    "<tr>\n",
    "    <td>Profitability Index (k) (A2 vs A1)</td>\n",
    "    <td>0</td>\n",
    "    <td>11.5</td>\n",
    "    <td>(Relative k)</td>\n",
    "</tr>\n",
    "<tr>\n",
    "    <td>Opportunity Cost (Choosing A1)</td>\n",
    "    <td>$14,625,751</td>\n",
    "    <td>$0</td>\n",
    "    <td>USD</td>\n",
    "</tr>\n",
    "<tr>\n",
    "    <td>Equilibrium Price (for A1)</td>\n",
    "    <td>$9,082</td>\n",
    "    <td>N/A</td>\n",
    "    <td>USD</td>\n",
    "</tr>\n",
    "</table>\n",
    "\n",
    "<p><em>Note:</em> Table 1 summarizes the technical and financial comparison of Aerator 1 and Aerator 2, highlighting efficiency and cost differences.</p>"
   ]
  },
  {
   "cell_type": "markdown",
   "id": "542af904",
   "metadata": {},
   "source": [
    "<!-- jupyter: {tags: [\"section\", \"discussion\"]} -->\n",
    "<div class=\"discussion\">\n",
    "<h2>4. Discussion</h2>\n",
    "\n",
    "The analysis demonstrates Aerator 2's economic superiority despite its higher unit cost ($900 vs $700) (Boyd & Hanson, 2021; The Fish Site, 2021). Key findings include:\n",
    "\n",
    "1. **Efficiency Advantage:** Aerator 2's higher SAE (1.56 vs 0.85 kg O₂/kWh) reduces equipment needs by 45% (2,367 vs 4,356 units) (Kumar et al., 2020; Roy et al., 2024).\n",
    "2. **Lower Initial Investment:** Fewer units result in a lower total investment for Aerator 2 ($2.13M vs $3.05M).\n",
    "3. **Annual Savings:** Aerator 2 saves $1,913,231 annually, driven by reduced energy and replacement costs (Boyd & Hanson, 2021; The Fish Site, 2021).\n",
    "4. **Financial Metrics:** NPV of savings is $14.6M, with relative ROI of 150.42% and IRR of 343.93%, indicating immediate benefits (Intelligon, 2022; Susilowati et al., 2021).\n",
    "5. **Opportunity Cost:** Choosing Aerator 1 incurs a $14.6M opportunity cost (Boyd & Hanson, 2021).\n",
    "6. **Equilibrium Price:** Aerator 1's price would need to be negative ($9,082 threshold) to compete, highlighting its inefficiency (Asche et al., 2021).\n",
    "</div>\n",
    "\n",
    "[Placeholder: Discuss in-loco data results, farmer evidence on low-durability aerators, and AeraSync API's role in refining financial models.]"
   ]
  },
  {
   "cell_type": "markdown",
   "id": "eb68fa96",
   "metadata": {},
   "source": [
    "<!-- jupyter: {tags: [\"section\", \"conclusion\"]} -->\n",
    "<div class=\"conclusion\">\n",
    "<h2>5. Conclusion</h2>\n",
    "\n",
    "<p>This study reinforces that prioritizing upfront cost savings over operational efficiency (SAE, OTRT) and durability is economically detrimental. Comprehensive, adapted mathematical models (NPV, opportunity cost, equilibrium pricing) provide decision support for sustainable shrimp farm management (Engle, 2010; Merino et al., 2024).\n",
    "</p>\n",
    "</div>"
   ]
  },
  {
   "cell_type": "markdown",
   "id": "0e77d713",
   "metadata": {},
   "source": [
    "<!-- jupyter: {tags: [\"section\", \"glossary\"]} -->\n",
    "<div class=\"glossary\">\n",
    "<h3>6. Glossary</h3>\n",
    "\n",
    "- **$\\text{OTR}_T$**: Temperature-Adjusted Oxygen Transfer Rate, oxygen transfer adjusted for temperature.  \n",
    "- **$\\text{SAE}$**: Standard Aeration Efficiency, oxygen transferred per unit power.  \n",
    "- **$\\text{TOD}$**: Total Oxygen Demand, oxygen required by shrimp and microbial activity.  \n",
    "- **$\\text{NPV}$**: Net Present Value, present value of cost savings.  \n",
    "- **$\\text{IRR}$**: Internal Rate of Return, rate making NPV zero.  \n",
    "- **$\\text{ROI}$**: Return on Investment, relative return adjusted for efficiency.  \n",
    "- **$k$**: Profitability Index, relative NPV scaled by efficiency.  "
   ]
  },
  {
   "cell_type": "markdown",
   "id": "3d9873d8",
   "metadata": {},
   "source": [
    "<!-- jupyter: {tags: [\"declaration\", \"AI\"]} -->\n",
    "\n",
    "<div class=\"declaration\">\n",
    "    <h3>7. Declaration of Generative AI and AI-Assisted Technologies in the Writing Process</h3>\n",
    "    <p>During the preparation of this work, the author(s) used Grok by xAI and GitHub Copilot to assist in drafting LaTeX equations and refining text readability. After using this tool/service, the author(s) reviewed and edited the content as needed and take(s) full responsibility for the content of the published article.</p>\n",
    "</div>"
   ]
  },
  {
   "cell_type": "markdown",
   "id": "a067e1bc",
   "metadata": {},
   "source": [
    "<!-- jupyter: {tags: [\"author-contributions\"]} -->\n",
    "\n",
    "<div class=\"credit-roles\">\n",
    "    <h3>8. Author Contributions</h3>\n",
    "    <ul>\n",
    "        <li><strong>Conceptualization:</strong> Nely Apolo Carrión</li>\n",
    "        <li><strong>Data Curation:</strong> Luis Paulo Vinatea Barberena</li>\n",
    "        <li><strong>Formal Analysis:</strong> Luis Alejandro Vinatea Arana</li>\n",
    "        <li><strong>Investigation:</strong> Luis Paulo Vinatea Barberena</li>\n",
    "        <li><strong>Methodology:</strong> Luis Alejandro Vinatea Arana</li>\n",
    "        <li><strong>Software:</strong> Luis Paulo Vinatea Barberena (AeraSync API development)</li>\n",
    "        <li><strong>Writing – Original Draft:</strong> Luis Paulo Vinatea Barberena</li>\n",
    "        <li><strong>Writing – Review & Editing:</strong> Luis Alejandro Vinatea Arana</li>\n",
    "    </ul>\n",
    "</div>"
   ]
  },
  {
   "cell_type": "markdown",
   "id": "10e648e9",
   "metadata": {},
   "source": [
    "<!-- jupyter: {tags: [\"funding\"]} -->\n",
    "\n",
    "<div class=\"declaration\">\n",
    "    <h3>9. Funding</h3>\n",
    "This research did not receive any specific grant from funding agencies in the public, commercial, or not-for-profit sectors.\n",
    "</div>"
   ]
  },
  {
   "cell_type": "markdown",
   "id": "215f1850",
   "metadata": {},
   "source": [
    "<!-- jupyter: {tags: [\"acknowledgements\"]} -->\n",
    "\n",
    "<div class=\"acknowledgements\">\n",
    "    <h3>10. Acknowledgements</h3>\n",
    "    <p>Thanks to Naturisa S.A. Ecuador for the space granted to perform experimentation</p>\n",
    "</div>"
   ]
  },
  {
   "cell_type": "markdown",
   "id": "284e0e99",
   "metadata": {},
   "source": [
    "<!-- jupyter: {tags: [\"data-availability\"]} -->\n",
    "\n",
    "<div class=\"data-availability\">\n",
    "    <h3>11. Data Availability</h3>\n",
    "    <p>[Placeholder: Research data (in-loco measurements, farmer interviews) have been deposited in [Repository Name, DOI/Link]. If unavailable, state reason, e.g., confidentiality of farmer data.]</p>\n",
    "</div>\n"
   ]
  },
  {
   "cell_type": "markdown",
   "id": "acb44954",
   "metadata": {},
   "source": [
    "<!-- jupyter: {tags: [\"supplementary-materials\"]} -->\n",
    "\n",
    "<div class=\"supplementary-material\">\n",
    "    <h3>12. Supplementary Material</h3>\n",
    "    <p>AeraSync API code is available at <br> <a href=\"https://github.com/luisvinatea/AeraSync\">https://github.com/luisvinatea/AeraSync</a></p>\n",
    "</div>"
   ]
  },
  {
   "cell_type": "markdown",
   "id": "f75240c8",
   "metadata": {},
   "source": [
    "<!-- jupyter: {tags: [\"author-vitae\"]} -->\n",
    "\n",
    "<h3>13. Vitae</h3>\n",
    "\n",
    "<div class=\"vitae-container\" style=\"display: flex; align-items: flex-start; gap: 20px;\">\n",
    "    <div class=\"vitae-photo\" style=\"flex: 0 0 200px;\">\n",
    "        <img src=\"luisvinatea.jpeg\" alt=\"Luis Vinatea\" style=\"width: 100%; max-width: 200px; border-radius: 5px;\">\n",
    "    </div>\n",
    "    <div class=\"vitae-bio\" style=\"flex: 1;\">\n",
    "        <p>Luis Paulo Vinatea Barberena is an independent researcher with expertise in business analytics and quantitative finance. His work focuses on employing machine learning algorithms for finding optimal solutions in productivity. He developed the AeraSync API, enhancing economic models for aquaculture. With a Master's in Corporate Finance (OBS Business School, 2025) and over five years of entrepreneurial experience, his strategies have reduced firm costs by 30%, increased conversion rates by 200%, and generated over 1 million BRL in revenue across multicultural and multilingual environments.</p>\n",
    "    </div>\n",
    "</div>"
   ]
  },
  {
   "cell_type": "markdown",
   "id": "08ca21c8",
   "metadata": {},
   "source": [
    "<!-- jupyter: {tags: [\"references\"]} -->\n",
    "\n",
    "<div class=\"references\">\n",
    "    <h2>14. References</h2>\n",
    "    <ul>\n",
    "        <li>Asche, F., Roll, K. H., Tveteras, R., 2021. Market aspects and external economic effects of aquaculture. Aquac. Econ. Manag. 25, 1–7. https://doi.org/10.1080/13657305.2020.1869861</li>\n",
    "        <li>Boyd, C. E., 2015. Efficiency of mechanical aeration. Responsible Seafood Advocate. https://www.globalseafood.org/advocate/efficiency-of-mechanical-aeration/ (accessed 14 May 2025).</li>\n",
    "        <li>Boyd, C. E., 2020. Energy use in aquaculture pond aeration, Part 1. Responsible Seafood Advocate. https://www.globalseafood.org/advocate/energy-use-in-aquaculture-pond-aeration-part-1/ (accessed 14 May 2025).</li>\n",
    "        <li>Boyd, C. E., Hanson, T. R., 2021. Aerator energy use in shrimp farming and means for improvement. J. World Aquac. Soc. 52, 566–578. https://doi.org/10.1111/jwas.12753</li>\n",
    "        <li>Engle, C. R., 2010. Aquaculture economics and financing: Management and analysis. Wiley-Blackwell, Ames, IA. https://onlinelibrary.wiley.com/doi/book/10.1002/9780813814346</li>\n",
    "        <li>Engle, C. R., 2017. Aquaculture businesses: A practical guide to economics and marketing. 5m Publishing, Sheffield, UK.</li>\n",
    "        <li>Food and Agriculture Organization of the United Nations, n.d. Chapter 24 economic aspects of aquafarm construction and maintenance, in: Simple methods for aquaculture - Manual. FAO, Rome.</li>\n",
    "        <li>Intelligon, 2022. Shrimp farming basics: Project viability and investment analysis. Intelligon Blogs. https://blogs.intelligon.com/2022/02/28/shrimp-farming-basics-project-viability-and-investing-assessment/ (accessed 14 May 2025).</li>\n",
    "        <li>Jolly, C. M., Clonts, H. A., 1993. Economics of aquaculture. Food Products Press, New York.</li>\n",
    "        <li>Kumar, G., Engle, C., Tucker, C. S., 2020. Assessment of standard aeration efficiency of different aerators and its relation to the overall economics in shrimp culture. Aquac. Eng. 90, 102088. https://doi.org/10.1016/j.aquaeng.2020.102088</li>\n",
    "        <li>Merino, G., Barange, M., Blanchard, J. L., Harle, J., Holmes, R., Allen, I., Allison, E. H., Badjeck, M.-C., Dulvy, N. K., Holt, J., Jennings, S., Mullon, C., Rodwell, L. D., 2024. Environmental, economic, and social sustainability in aquaculture: The aquaculture performance indicators. Nat. Commun. 15, 4955. https://doi.org/10.1038/s41467-024-49556-8</li>\n",
    "        <li>Nunes, A. J. P., Musig, Y., 2013. Survey of aeration management in shrimp farming. SlideShare. https://www.slideshare.net/AquacultureASIA/survey-of-aeration-management-in-shrimp-farming (accessed 14 May 2025).</li>\n",
    "        <li>Responsible Seafood Advocate, 2022. A comparison of resource use in shrimp farming, part 3: Energy. Responsible Seafood Advocate. https://www.globalseafood.org/advocate/a-comparison-of-resource-use-in-shrimp-farming-part-3-energy/ (accessed 14 May 2025).</li>\n",
    "        <li>Roy, S. M., Sadek, S., Shafiq, M. A., Nasr, M., Mohsen, M., 2024. Advances in aeration and wastewater treatment in shrimp farming: Emerging trends, current challenges, and future perspectives. AQUA Water Infrastruct. Ecosyst. Soc. 73, 902–917. https://doi.org/10.2166/aqua.2024.256</li>\n",
    "        <li>Sadek, S., Nasr, M., Hassan, A., 2020. Assessment of the new generation aeration systems efficiency and water current flow rate, its relation to the cost economics at varying salinities. Aquac. Res. 51, 2257–2268. https://doi.org/10.1111/are.14562</li>\n",
    "        <li>Susilowati, Y. D., Perdana, M. C., Suparmanto, I., 2021. Sustainability and feasibility assessments of nanobubble aeration technology in economic-socio environment of Penaeus vannamei shrimp farming. BIO Web Conf. 33, 05005. https://doi.org/10.1051/bioconf/20213305005</li>\n",
    "        <li>The Fish Site, 2021. A simple means to improve shrimp farming efficiency. The Fish Site. https://thefishsite.com/articles/a-simple-means-to-improve-shrimp-farming-efficiency (accessed 14 May 2025).</li>\n",
    "        <li>Tveteras, R., 2009. Economic inefficiency and environmental impact: An application to aquaculture production. J. Environ. Econ. Manag. 58, 93–104. https://doi.org/10.1016/j.jeem.2008.10.005</li>\n",
    "        <li>Valderrama, D., Hishamunda, N., Cai, J., 2023. Economic analysis of the contributions of aquaculture to future food security. Aquaculture 577, 740023. https://doi.org/10.1016/j.aquaculture.2023.740023</li>\n",
    "        <li>Walras, L., 1874. Éléments d'économie politique pure, ou théorie de la richesse sociale. L. Corbaz, Lausanne.</li>\n",
    "    </ul>\n",
    "</div>"
   ]
  }
 ],
 "metadata": {
  "kernelspec": {
   "display_name": ".venv",
   "language": "python",
   "name": "python3"
  },
  "language_info": {
   "codemirror_mode": {
    "name": "ipython",
    "version": 3
   },
   "file_extension": ".py",
   "mimetype": "text/x-python",
   "name": "python",
   "nbconvert_exporter": "python",
   "pygments_lexer": "ipython3",
   "version": "3.13.3"
  }
 },
 "nbformat": 4,
 "nbformat_minor": 5
}
